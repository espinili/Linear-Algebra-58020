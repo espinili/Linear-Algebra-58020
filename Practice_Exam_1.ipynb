{
  "nbformat": 4,
  "nbformat_minor": 0,
  "metadata": {
    "colab": {
      "name": "Practice-Exam-1.ipynb",
      "provenance": [],
      "authorship_tag": "ABX9TyONinryxD+f70C8EULEWyp6",
      "include_colab_link": true
    },
    "kernelspec": {
      "name": "python3",
      "display_name": "Python 3"
    },
    "language_info": {
      "name": "python"
    }
  },
  "cells": [
    {
      "cell_type": "markdown",
      "metadata": {
        "id": "view-in-github",
        "colab_type": "text"
      },
      "source": [
        "<a href=\"https://colab.research.google.com/github/espinili/Linear-Algebra-58020/blob/main/Practice_Exam_1.ipynb\" target=\"_parent\"><img src=\"https://colab.research.google.com/assets/colab-badge.svg\" alt=\"Open In Colab\"/></a>"
      ]
    },
    {
      "cell_type": "code",
      "metadata": {
        "id": "ghvcQB94-as3"
      },
      "source": [
        "import numpy as np"
      ],
      "execution_count": 1,
      "outputs": []
    },
    {
      "cell_type": "code",
      "metadata": {
        "colab": {
          "base_uri": "https://localhost:8080/"
        },
        "id": "Z7l2oqVZA4b2",
        "outputId": "04447bde-345a-44cb-f62c-b74cb5924327"
      },
      "source": [
        "w = np.array([[1,-3],[2,-2],[3,1]])\n",
        "\n",
        "print(w)\n"
      ],
      "execution_count": 4,
      "outputs": [
        {
          "output_type": "stream",
          "name": "stdout",
          "text": [
            "[[ 1 -3]\n",
            " [ 2 -2]\n",
            " [ 3  1]]\n"
          ]
        }
      ]
    },
    {
      "cell_type": "code",
      "metadata": {
        "colab": {
          "base_uri": "https://localhost:8080/"
        },
        "id": "DF9z9QI9Cyl_",
        "outputId": "6180d710-7d1a-42d6-9ba5-ce5caf4fdf8e"
      },
      "source": [
        "x = np.array([[3,2,1],[-1,2,3],[2,-1,1]])\n",
        "print(x)"
      ],
      "execution_count": 6,
      "outputs": [
        {
          "output_type": "stream",
          "name": "stdout",
          "text": [
            "[[ 3  2  1]\n",
            " [-1  2  3]\n",
            " [ 2 -1  1]]\n"
          ]
        }
      ]
    },
    {
      "cell_type": "code",
      "metadata": {
        "colab": {
          "base_uri": "https://localhost:8080/"
        },
        "id": "Wuhg24krDGwZ",
        "outputId": "f5935448-96a9-428b-96ff-007b7cdb2f28"
      },
      "source": [
        "y = np.array([[1,2,0],[0,-1,2]])\n",
        "print(y)"
      ],
      "execution_count": 7,
      "outputs": [
        {
          "output_type": "stream",
          "name": "stdout",
          "text": [
            "[[ 1  2  0]\n",
            " [ 0 -1  2]]\n"
          ]
        }
      ]
    },
    {
      "cell_type": "code",
      "metadata": {
        "colab": {
          "base_uri": "https://localhost:8080/"
        },
        "id": "h_oSJBoMDdsf",
        "outputId": "299eee8c-21bf-4bfd-f103-f83398ecc902"
      },
      "source": [
        "z = np.array([[0,1],[2,3]])\n",
        "print(z)"
      ],
      "execution_count": 9,
      "outputs": [
        {
          "output_type": "stream",
          "name": "stdout",
          "text": [
            "[[0 1]\n",
            " [2 3]]\n"
          ]
        }
      ]
    },
    {
      "cell_type": "markdown",
      "metadata": {
        "id": "--K-jiU3GRcj"
      },
      "source": [
        "##a.WY\n"
      ]
    },
    {
      "cell_type": "code",
      "metadata": {
        "colab": {
          "base_uri": "https://localhost:8080/"
        },
        "id": "q1QSihXtDqFn",
        "outputId": "a1327ccf-091a-43b8-f48a-8437ad3c35e4"
      },
      "source": [
        "w = np.array([[1,-3],[2,-2],[3,1]])\n",
        "y = np.array([[1,2,0],[0,-1,2]])\n",
        "print('Matrix W =', w)\n",
        "print('Matrix Y =', y)\n"
      ],
      "execution_count": 32,
      "outputs": [
        {
          "output_type": "stream",
          "name": "stdout",
          "text": [
            "Matrix W = [[ 1 -3]\n",
            " [ 2 -2]\n",
            " [ 3  1]]\n",
            "Matrix Y = [[ 1  2  0]\n",
            " [ 0 -1  2]]\n"
          ]
        }
      ]
    },
    {
      "cell_type": "code",
      "metadata": {
        "colab": {
          "base_uri": "https://localhost:8080/"
        },
        "id": "Co5OocC8MzKR",
        "outputId": "5a3ef8a6-1e9b-4a23-f411-c8dc0111d020"
      },
      "source": [
        "WY = np.dot(w,y)\n",
        "print(WY)"
      ],
      "execution_count": 33,
      "outputs": [
        {
          "output_type": "stream",
          "name": "stdout",
          "text": [
            "[[ 1  5 -6]\n",
            " [ 2  6 -4]\n",
            " [ 3  5  2]]\n"
          ]
        }
      ]
    },
    {
      "cell_type": "markdown",
      "metadata": {
        "id": "JoDik5BbGWbt"
      },
      "source": [
        "##b.Z+Z"
      ]
    },
    {
      "cell_type": "code",
      "metadata": {
        "colab": {
          "base_uri": "https://localhost:8080/"
        },
        "id": "Rls4WJOXFV-t",
        "outputId": "8439faff-6052-4ba7-bd4a-879584df19c1"
      },
      "source": [
        "z = np.array([[0,1],[2,3]])\n",
        "print(z+z)"
      ],
      "execution_count": 17,
      "outputs": [
        {
          "output_type": "stream",
          "name": "stdout",
          "text": [
            "[[0 2]\n",
            " [4 6]]\n"
          ]
        }
      ]
    },
    {
      "cell_type": "code",
      "metadata": {
        "colab": {
          "base_uri": "https://localhost:8080/"
        },
        "id": "lN914obLJsxe",
        "outputId": "6685e99f-c264-4a83-d119-39bc1b784242"
      },
      "source": [
        "Z = np.add(z,z)\n",
        "print(Z)"
      ],
      "execution_count": 25,
      "outputs": [
        {
          "output_type": "stream",
          "name": "stdout",
          "text": [
            "[[0 2]\n",
            " [4 6]]\n"
          ]
        }
      ]
    },
    {
      "cell_type": "markdown",
      "metadata": {
        "id": "r3lfYoXVGaDE"
      },
      "source": [
        "##c.3X"
      ]
    },
    {
      "cell_type": "code",
      "metadata": {
        "colab": {
          "base_uri": "https://localhost:8080/"
        },
        "id": "uWXBwqG4Gdrn",
        "outputId": "3b52fa44-43b9-49d3-beba-f7d0b167902e"
      },
      "source": [
        "x = np.array([[3,2,1],[-1,2,3],[2,-1,1]])\n",
        "print(3*x)"
      ],
      "execution_count": 18,
      "outputs": [
        {
          "output_type": "stream",
          "name": "stdout",
          "text": [
            "[[ 9  6  3]\n",
            " [-3  6  9]\n",
            " [ 6 -3  3]]\n"
          ]
        }
      ]
    },
    {
      "cell_type": "code",
      "metadata": {
        "colab": {
          "base_uri": "https://localhost:8080/"
        },
        "id": "M1lihzAOJ5zV",
        "outputId": "766de6ab-6387-4936-f7d7-e0dad5efa6e5"
      },
      "source": [
        "X = np.multiply(3,x)\n",
        "print(X)"
      ],
      "execution_count": 26,
      "outputs": [
        {
          "output_type": "stream",
          "name": "stdout",
          "text": [
            "[[ 9  6  3]\n",
            " [-3  6  9]\n",
            " [ 6 -3  3]]\n"
          ]
        }
      ]
    },
    {
      "cell_type": "markdown",
      "metadata": {
        "id": "1VRlxYlwHUc1"
      },
      "source": [
        "##. The product (YW)2 is not defined\n"
      ]
    },
    {
      "cell_type": "code",
      "metadata": {
        "colab": {
          "base_uri": "https://localhost:8080/"
        },
        "id": "On_0VgbwKjLK",
        "outputId": "1b97ab0a-8914-452a-950b-29cd1fb623eb"
      },
      "source": [
        "w = np.array([[1,-3],[2,-2],[3,1]])\n",
        "y = np.array([[1,2,0],[0,-1,2]])\n",
        "WY = np.dot(w,y)\n",
        "WYWY = np.square(WY,WY)\n",
        "T = ('THE STATEMENT IS TRUE')\n",
        "print(T)\n",
        "print(WYWY)\n"
      ],
      "execution_count": 83,
      "outputs": [
        {
          "output_type": "stream",
          "name": "stdout",
          "text": [
            "THE STATEMENT IS TRUE\n",
            "[[ 1 25 36]\n",
            " [ 4 36 16]\n",
            " [ 9 25  4]]\n"
          ]
        }
      ]
    },
    {
      "cell_type": "markdown",
      "metadata": {
        "id": "erBVov-ONcof"
      },
      "source": [
        "##b. WY – X = "
      ]
    },
    {
      "cell_type": "code",
      "metadata": {
        "colab": {
          "base_uri": "https://localhost:8080/"
        },
        "id": "JuzQqFJiNfLD",
        "outputId": "3c36fdfb-64b2-42db-fe96-5b51bf54dd2b"
      },
      "source": [
        "w = np.array([[1,-3],[2,-2],[3,1]])\n",
        "y = np.array([[1,2,0],[0,-1,2]])\n",
        "x = np.array([[3,2,1],[-1,2,3],[2,-1,1]])\n",
        "WY = np.dot(w,y)\n",
        "T = ('THE STATEMENT IS TRUE')\n",
        "print(T)\n",
        "print(WY-x)\n"
      ],
      "execution_count": 77,
      "outputs": [
        {
          "output_type": "stream",
          "name": "stdout",
          "text": [
            "THE STATEMENT IS TRUE\n",
            "[[-2  3 -7]\n",
            " [ 3  4 -7]\n",
            " [ 1  6  1]]\n"
          ]
        }
      ]
    },
    {
      "cell_type": "markdown",
      "metadata": {
        "id": "r0BFCaBMN_yQ"
      },
      "source": [
        "##c. YW – Z2 ="
      ]
    },
    {
      "cell_type": "code",
      "metadata": {
        "colab": {
          "base_uri": "https://localhost:8080/"
        },
        "id": "94UwjGY4SvT9",
        "outputId": "76aa7041-2ba0-4320-dc40-a88bcd1714f2"
      },
      "source": [
        "w = np.array([[1,-3],[2,-2],[3,1]])\n",
        "y = np.array([[1,2,0],[0,-1,2]])\n",
        "z = np.array([[0,1],[2,3]])\n",
        "YW = np.dot(y,w)\n",
        "ZZ = np.square(z)\n",
        "T = ('THE STATEMENT IS TRUE')\n",
        "print(T)\n",
        "print(YW-ZZ)\n"
      ],
      "execution_count": 81,
      "outputs": [
        {
          "output_type": "stream",
          "name": "stdout",
          "text": [
            "THE STATEMENT IS TRUE\n",
            "[[ 5 -8]\n",
            " [ 0 -5]]\n"
          ]
        }
      ]
    }
  ]
}