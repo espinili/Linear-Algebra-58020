{
  "nbformat": 4,
  "nbformat_minor": 0,
  "metadata": {
    "colab": {
      "name": "Intro To Phython: Linear Algebra.ipynb",
      "provenance": [],
      "collapsed_sections": [],
      "authorship_tag": "ABX9TyO03tNVFrOc7j84jxTCIFT3",
      "include_colab_link": true
    },
    "kernelspec": {
      "name": "python3",
      "display_name": "Python 3"
    },
    "language_info": {
      "name": "python"
    }
  },
  "cells": [
    {
      "cell_type": "markdown",
      "metadata": {
        "id": "view-in-github",
        "colab_type": "text"
      },
      "source": [
        "<a href=\"https://colab.research.google.com/github/espinili/Linear-Algebra-58020/blob/main/Intro_To_Phython_Linear_Algebra.ipynb\" target=\"_parent\"><img src=\"https://colab.research.google.com/assets/colab-badge.svg\" alt=\"Open In Colab\"/></a>"
      ]
    },
    {
      "cell_type": "code",
      "metadata": {
        "colab": {
          "base_uri": "https://localhost:8080/"
        },
        "id": "CGZXMQxaGxlJ",
        "outputId": "e3905c63-5b72-44a7-8ef2-2e0aec9a8072"
      },
      "source": [
        "x = \"Sally\" #This is a type of string\n",
        "x = int(231)\n",
        "x = \"john\"\n",
        "y = \"ana\"\n",
        "print(type(x))\n",
        "print(type(y))\n"
      ],
      "execution_count": null,
      "outputs": [
        {
          "output_type": "stream",
          "text": [
            "<class 'str'>\n",
            "<class 'str'>\n"
          ],
          "name": "stdout"
        }
      ]
    },
    {
      "cell_type": "code",
      "metadata": {
        "colab": {
          "base_uri": "https://localhost:8080/"
        },
        "id": "xPGhjtItHEfa",
        "outputId": "7eeca439-8def-4ca4-db5c-32c363e1ea91"
      },
      "source": [
        "x,y,z = \"John\",\"Carlo\",\"Espinili\"\n",
        "print(x)\n",
        "print(y)\n",
        "print(z)\n"
      ],
      "execution_count": null,
      "outputs": [
        {
          "output_type": "stream",
          "text": [
            "John\n",
            "Carlo\n",
            "Espinili\n"
          ],
          "name": "stdout"
        }
      ]
    },
    {
      "cell_type": "code",
      "metadata": {
        "colab": {
          "base_uri": "https://localhost:8080/"
        },
        "id": "-CZWzUoPIqjR",
        "outputId": "c041af16-2a21-4a48-e5d9-e42a4d4add7e"
      },
      "source": [
        "x=y=z = \"carlo\"\n",
        "print(x)\n",
        "print(y)\n",
        "print(z)\n"
      ],
      "execution_count": null,
      "outputs": [
        {
          "output_type": "stream",
          "text": [
            "carlo\n",
            "carlo\n",
            "carlo\n"
          ],
          "name": "stdout"
        }
      ]
    },
    {
      "cell_type": "code",
      "metadata": {
        "colab": {
          "base_uri": "https://localhost:8080/"
        },
        "id": "Wqtu1ip4IzCE",
        "outputId": "305b9c0a-c52b-4021-ad27-a008c56e0b71"
      },
      "source": [
        "x = \"Fun and Amazing\"\n",
        "print (\"Programming is\" + x)\n"
      ],
      "execution_count": null,
      "outputs": [
        {
          "output_type": "stream",
          "text": [
            "Programming isFun and Amazing\n"
          ],
          "name": "stdout"
        }
      ]
    },
    {
      "cell_type": "code",
      "metadata": {
        "colab": {
          "base_uri": "https://localhost:8080/"
        },
        "id": "zrZy6h92JCxs",
        "outputId": "b07578f9-4f35-47bf-9c05-016e73b0bc27"
      },
      "source": [
        "x = 7\n",
        "y = 8\n",
        "print(x+y)\n"
      ],
      "execution_count": null,
      "outputs": [
        {
          "output_type": "stream",
          "text": [
            "15\n"
          ],
          "name": "stdout"
        }
      ]
    },
    {
      "cell_type": "code",
      "metadata": {
        "colab": {
          "base_uri": "https://localhost:8080/"
        },
        "id": "rCHr4-BCJL_1",
        "outputId": "b12b8f63-db2d-417f-f713-d0074e602cce"
      },
      "source": [
        "x = 7\n",
        "y = 8\n",
        "z = 9\n",
        "print(x+y-z)"
      ],
      "execution_count": null,
      "outputs": [
        {
          "output_type": "stream",
          "text": [
            "6\n"
          ],
          "name": "stdout"
        }
      ]
    },
    {
      "cell_type": "code",
      "metadata": {
        "colab": {
          "base_uri": "https://localhost:8080/"
        },
        "id": "yOrfT_dsJg4c",
        "outputId": "8b564669-7844-4a07-c760-a393b0f3232f"
      },
      "source": [
        "x = \"Python\"\n",
        "y = \"Linear\"\n",
        "z = \"Algebra\"\n",
        "print(x,y,z)\n"
      ],
      "execution_count": null,
      "outputs": [
        {
          "output_type": "stream",
          "text": [
            "Python Linear Algebra\n"
          ],
          "name": "stdout"
        }
      ]
    }
  ]
}