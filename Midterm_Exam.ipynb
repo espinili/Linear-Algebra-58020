{
  "nbformat": 4,
  "nbformat_minor": 0,
  "metadata": {
    "colab": {
      "name": "Midterm Exam.ipynb",
      "provenance": [],
      "authorship_tag": "ABX9TyNYh9/n+KG11rJMRL692Zef",
      "include_colab_link": true
    },
    "kernelspec": {
      "name": "python3",
      "display_name": "Python 3"
    },
    "language_info": {
      "name": "python"
    }
  },
  "cells": [
    {
      "cell_type": "markdown",
      "metadata": {
        "id": "view-in-github",
        "colab_type": "text"
      },
      "source": [
        "<a href=\"https://colab.research.google.com/github/espinili/Linear-Algebra-58020/blob/main/Midterm_Exam.ipynb\" target=\"_parent\"><img src=\"https://colab.research.google.com/assets/colab-badge.svg\" alt=\"Open In Colab\"/></a>"
      ]
    },
    {
      "cell_type": "markdown",
      "metadata": {
        "id": "0Vnmu59v6ouV"
      },
      "source": [
        "##Question 1\n"
      ]
    },
    {
      "cell_type": "code",
      "metadata": {
        "colab": {
          "base_uri": "https://localhost:8080/"
        },
        "id": "-pvMEVAL5tfy",
        "outputId": "88fc06b9-5baf-48f1-b1f9-c6ec5e4aea24"
      },
      "source": [
        "#Create a Python code that displays a square matrix whose length is 5\n",
        "import numpy as np\n",
        "\n",
        "np.arange(1,26).reshape(5,5)"
      ],
      "execution_count": null,
      "outputs": [
        {
          "output_type": "execute_result",
          "data": {
            "text/plain": [
              "array([[ 1,  2,  3,  4,  5],\n",
              "       [ 6,  7,  8,  9, 10],\n",
              "       [11, 12, 13, 14, 15],\n",
              "       [16, 17, 18, 19, 20],\n",
              "       [21, 22, 23, 24, 25]])"
            ]
          },
          "metadata": {},
          "execution_count": 30
        }
      ]
    },
    {
      "cell_type": "markdown",
      "metadata": {
        "id": "dM-PB0GRAaef"
      },
      "source": [
        "##Question 2\n"
      ]
    },
    {
      "cell_type": "code",
      "metadata": {
        "colab": {
          "base_uri": "https://localhost:8080/"
        },
        "id": "LSu4oxKA_3XU",
        "outputId": "d09a2551-0aaf-4a2d-f202-493497672925"
      },
      "source": [
        "#Create a Python code that displays a square matrix whose elements below the principal diagonal are zero\n",
        "np.triu([[1,2,3],[4,5,6],[7,8,9]])"
      ],
      "execution_count": null,
      "outputs": [
        {
          "output_type": "execute_result",
          "data": {
            "text/plain": [
              "array([[1, 2, 3],\n",
              "       [0, 5, 6],\n",
              "       [0, 0, 9]])"
            ]
          },
          "metadata": {},
          "execution_count": 32
        }
      ]
    },
    {
      "cell_type": "markdown",
      "metadata": {
        "id": "3VaMPG5lAcKy"
      },
      "source": [
        "##Question 3"
      ]
    },
    {
      "cell_type": "code",
      "metadata": {
        "colab": {
          "base_uri": "https://localhost:8080/"
        },
        "id": "DmcSMpZVAZEW",
        "outputId": "52730fed-2a53-4573-e863-2d218b1cb296"
      },
      "source": [
        "#Create a Python code that displays a square matrix which is symmetrical\n",
        "\n",
        "A = np.array ([[1,2,3,4,5],\n",
        "                           [1,2,3,4,5],\n",
        "                           [1,2,3,4,5],\n",
        "                           [1,2,3,4,5],\n",
        "                           [1,2,3,4,5]])\n",
        "#prints a square matrix which is symmetrical\n",
        "\n",
        "print('A square matrix which is symmetrical')\n",
        "print(A)"
      ],
      "execution_count": null,
      "outputs": [
        {
          "output_type": "stream",
          "name": "stdout",
          "text": [
            "A square matrix which is symmetrical\n",
            "[[1 2 3 4 5]\n",
            " [1 2 3 4 5]\n",
            " [1 2 3 4 5]\n",
            " [1 2 3 4 5]\n",
            " [1 2 3 4 5]]\n"
          ]
        }
      ]
    },
    {
      "cell_type": "markdown",
      "metadata": {
        "id": "CBWTNjMzCbbC"
      },
      "source": [
        "##Question 4"
      ]
    },
    {
      "cell_type": "code",
      "metadata": {
        "colab": {
          "base_uri": "https://localhost:8080/"
        },
        "id": "Gnn2NteZCa5C",
        "outputId": "eff857e3-cfbf-4433-8b23-ca93bc9b0624"
      },
      "source": [
        "#What is the inverse of matrix C? Show your solution by python coding.\n",
        "\n",
        "A = np.array([[1,2,3],[2,3,3],[3,4,-2]])\n",
        "print(A)\n",
        "inv_A = np.linalg.inv(A)\n",
        "print(inv_A)"
      ],
      "execution_count": null,
      "outputs": [
        {
          "output_type": "stream",
          "name": "stdout",
          "text": [
            "[[ 1  2  3]\n",
            " [ 2  3  3]\n",
            " [ 3  4 -2]]\n",
            "[[-3.6  3.2 -0.6]\n",
            " [ 2.6 -2.2  0.6]\n",
            " [-0.2  0.4 -0.2]]\n"
          ]
        }
      ]
    },
    {
      "cell_type": "markdown",
      "metadata": {
        "id": "hqlxiss-C95Y"
      },
      "source": [
        "##Question 5"
      ]
    },
    {
      "cell_type": "code",
      "metadata": {
        "colab": {
          "base_uri": "https://localhost:8080/"
        },
        "id": "2ezVpUYcC9V9",
        "outputId": "d2ef4c9b-9507-43c5-cede-da566a2fc791"
      },
      "source": [
        "#What is the determinant of the given matrix in Question 4? Show your solution by python coding\n",
        "\n",
        "A = np.array([[1,2,3],[2,3,3],[3,4,-2]])\n",
        "print(A)\n",
        "det_A = np.linalg.det(A)\n",
        "print(det_A)"
      ],
      "execution_count": null,
      "outputs": [
        {
          "output_type": "stream",
          "name": "stdout",
          "text": [
            "[[ 1  2  3]\n",
            " [ 2  3  3]\n",
            " [ 3  4 -2]]\n",
            "5.000000000000001\n"
          ]
        }
      ]
    },
    {
      "cell_type": "markdown",
      "metadata": {
        "id": "R9o43w0EF4_C"
      },
      "source": [
        "##Question 6"
      ]
    },
    {
      "cell_type": "code",
      "metadata": {
        "colab": {
          "base_uri": "https://localhost:8080/"
        },
        "id": "JyNbLABvF4SN",
        "outputId": "ab0b5e9b-1e43-4bd6-e537-d0ec172f7fa1"
      },
      "source": [
        "# Find the roots of the linear equations by showing its python codes \n",
        "A = np.array([[5,4,1], [10,9,4],[10,13,15]])\n",
        "print(A)\n",
        "InvA = np.linalg.inv(A)\n",
        "print(\"\\n\")\n",
        "B = np.array([[3,4],[8,8],[19,2]])\n",
        "print(B)\n",
        "print(\"\\n\")\n",
        "roots = np.dot(InvA,B)\n",
        "print(roots)"
      ],
      "execution_count": null,
      "outputs": [
        {
          "output_type": "stream",
          "name": "stdout",
          "text": [
            "[[ 5  4  1]\n",
            " [10  9  4]\n",
            " [10 13 15]]\n",
            "\n",
            "\n",
            "[[ 3  4]\n",
            " [ 8  8]\n",
            " [19  2]]\n",
            "\n",
            "\n",
            "[[ 4.00000000e-01 -2.00000000e+00]\n",
            " [-1.66533454e-15  4.00000000e+00]\n",
            " [ 1.00000000e+00 -2.00000000e+00]]\n"
          ]
        }
      ]
    }
  ]
}