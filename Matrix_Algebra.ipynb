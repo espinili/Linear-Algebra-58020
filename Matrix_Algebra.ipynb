{
  "nbformat": 4,
  "nbformat_minor": 0,
  "metadata": {
    "colab": {
      "name": "Matrix Algebra.ipynb",
      "provenance": [],
      "authorship_tag": "ABX9TyMXl/nnJomI3FE23zCeXXi5",
      "include_colab_link": true
    },
    "kernelspec": {
      "name": "python3",
      "display_name": "Python 3"
    },
    "language_info": {
      "name": "python"
    }
  },
  "cells": [
    {
      "cell_type": "markdown",
      "metadata": {
        "id": "view-in-github",
        "colab_type": "text"
      },
      "source": [
        "<a href=\"https://colab.research.google.com/github/espinili/Linear-Algebra-58020/blob/main/Matrix_Algebra.ipynb\" target=\"_parent\"><img src=\"https://colab.research.google.com/assets/colab-badge.svg\" alt=\"Open In Colab\"/></a>"
      ]
    },
    {
      "cell_type": "code",
      "metadata": {
        "colab": {
          "base_uri": "https://localhost:8080/"
        },
        "id": "v7KgKyj7HcAa",
        "outputId": "ad8585ae-d630-450f-aecc-1a55b98e1550"
      },
      "source": [
        "import numpy as np\n",
        "A = np.array([[2,1],[0,1]])\n",
        "print(A)\n",
        "inverse = (np.linalg.inv(A))\n",
        "print(inverse)"
      ],
      "execution_count": 11,
      "outputs": [
        {
          "output_type": "stream",
          "name": "stdout",
          "text": [
            "[[2 1]\n",
            " [0 1]]\n",
            "[[ 0.5 -0.5]\n",
            " [ 0.   1. ]]\n"
          ]
        }
      ]
    },
    {
      "cell_type": "code",
      "metadata": {
        "colab": {
          "base_uri": "https://localhost:8080/"
        },
        "id": "BS5lT4HdIysn",
        "outputId": "53528d89-2006-4a03-d98d-550a2bd17820"
      },
      "source": [
        "B = np.dot(A,inverse)\n",
        "print(B)"
      ],
      "execution_count": 12,
      "outputs": [
        {
          "output_type": "stream",
          "name": "stdout",
          "text": [
            "[[1. 0.]\n",
            " [0. 1.]]\n"
          ]
        }
      ]
    },
    {
      "cell_type": "code",
      "metadata": {
        "colab": {
          "base_uri": "https://localhost:8080/"
        },
        "id": "dd9hlf_AHxDN",
        "outputId": "b090a219-4d6e-4646-d698-3af0b363e586"
      },
      "source": [
        "#Python Programming to Transpose a 3x3 Matrix A = ([[1,2,3],[5,-6,7],[8,9,8]])\n",
        "A = np.array([[1,2,3],[5,-6,7],[8,9,8]])\n",
        "print(A)\n",
        "B = np.transpose(A)\n",
        "print(B)"
      ],
      "execution_count": 13,
      "outputs": [
        {
          "output_type": "stream",
          "name": "stdout",
          "text": [
            "[[ 1  2  3]\n",
            " [ 5 -6  7]\n",
            " [ 8  9  8]]\n",
            "[[ 1  5  8]\n",
            " [ 2 -6  9]\n",
            " [ 3  7  8]]\n"
          ]
        }
      ]
    },
    {
      "cell_type": "code",
      "metadata": {
        "colab": {
          "base_uri": "https://localhost:8080/"
        },
        "id": "_aQcUsvvJPwM",
        "outputId": "b7ff4765-7b7b-4972-d2e9-94c7bd04058c"
      },
      "source": [
        "#Python Programming to Inverse a 3x3 Matrix A = ([[1,2,3],[5,-6,7],[8,9,8]])\n",
        "A = np.array([[1,2,3],[5,-6,7],[8,9,8]])\n",
        "print(A)\n",
        "inverse = (np.linalg.inv(A))\n",
        "print(inverse)"
      ],
      "execution_count": 15,
      "outputs": [
        {
          "output_type": "stream",
          "name": "stdout",
          "text": [
            "[[ 1  2  3]\n",
            " [ 5 -6  7]\n",
            " [ 8  9  8]]\n",
            "[[-0.555  0.055  0.16 ]\n",
            " [ 0.08  -0.08   0.04 ]\n",
            " [ 0.465  0.035 -0.08 ]]\n"
          ]
        }
      ]
    }
  ]
}