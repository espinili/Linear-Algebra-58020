{
  "nbformat": 4,
  "nbformat_minor": 0,
  "metadata": {
    "colab": {
      "name": "Matrix and its Operations",
      "provenance": [],
      "authorship_tag": "ABX9TyPVZtuxNWONbkkA6hx20HhV",
      "include_colab_link": true
    },
    "kernelspec": {
      "name": "python3",
      "display_name": "Python 3"
    },
    "language_info": {
      "name": "python"
    }
  },
  "cells": [
    {
      "cell_type": "markdown",
      "metadata": {
        "id": "view-in-github",
        "colab_type": "text"
      },
      "source": [
        "<a href=\"https://colab.research.google.com/github/espinili/Linear-Algebra-58020/blob/main/Matrix_and_its_Operations.ipynb\" target=\"_parent\"><img src=\"https://colab.research.google.com/assets/colab-badge.svg\" alt=\"Open In Colab\"/></a>"
      ]
    },
    {
      "cell_type": "code",
      "metadata": {
        "colab": {
          "base_uri": "https://localhost:8080/"
        },
        "id": "mUGLneQ_QYyC",
        "outputId": "2113ca39-b2ff-47fd-894a-53b41c9d8b8f"
      },
      "source": [
        "import numpy as np\n",
        "#Create a 1x3 matrix\n",
        "a = np.array([1,2,3])\n",
        "print (a)"
      ],
      "execution_count": 5,
      "outputs": [
        {
          "output_type": "stream",
          "name": "stdout",
          "text": [
            "[1 2 3]\n"
          ]
        }
      ]
    },
    {
      "cell_type": "code",
      "metadata": {
        "colab": {
          "base_uri": "https://localhost:8080/"
        },
        "id": "puVGxG6kNNkY",
        "outputId": "85d5ef88-abb5-4b22-8edd-cae49aa63505"
      },
      "source": [
        "#Addition of Matrix\n",
        "a = np.array ([[-5,0],[4,1]])\n",
        "b = np.array ([[6,-3],[2,3]])\n",
        "print(a+b)"
      ],
      "execution_count": 11,
      "outputs": [
        {
          "output_type": "stream",
          "name": "stdout",
          "text": [
            "[[ 1 -3]\n",
            " [ 6  4]]\n"
          ]
        }
      ]
    },
    {
      "cell_type": "code",
      "metadata": {
        "colab": {
          "base_uri": "https://localhost:8080/"
        },
        "id": "PwX-i-gtR2GB",
        "outputId": "5d78cb32-92de-411f-81d8-298f2fe3bcad"
      },
      "source": [
        "#Subtraction of Matrices 1\n",
        "a = np.array ([[-5,0],[4,1]])\n",
        "b = np.array ([[6,-3],[2,3]])\n",
        "print(a-b)"
      ],
      "execution_count": 12,
      "outputs": [
        {
          "output_type": "stream",
          "name": "stdout",
          "text": [
            "[[-11   3]\n",
            " [  2  -2]]\n"
          ]
        }
      ]
    },
    {
      "cell_type": "code",
      "metadata": {
        "colab": {
          "base_uri": "https://localhost:8080/"
        },
        "id": "6ziyRGdYS_rh",
        "outputId": "c44549fa-1f53-4522-c0b3-32a720fe2713"
      },
      "source": [
        "#Subtraction of Matrices 2\n",
        "b = np.array ([[6,-3],[2,3]])\n",
        "print(b-b)\n"
      ],
      "execution_count": 14,
      "outputs": [
        {
          "output_type": "stream",
          "name": "stdout",
          "text": [
            "[[0 0]\n",
            " [0 0]]\n"
          ]
        }
      ]
    }
  ]
}